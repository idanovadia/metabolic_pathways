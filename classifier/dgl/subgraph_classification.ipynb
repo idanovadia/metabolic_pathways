{
  "nbformat": 4,
  "nbformat_minor": 0,
  "metadata": {
    "kernelspec": {
      "name": "python3",
      "display_name": "Python 3"
    },
    "colab": {
      "name": "subgraph_classification.ipynb",
      "provenance": [],
      "toc_visible": true
    }
  },
  "cells": [
    {
      "cell_type": "code",
      "metadata": {
        "jupyter": {
          "outputs_hidden": false
        },
        "id": "-nlzcRlwOD3-",
        "colab_type": "code",
        "colab": {}
      },
      "source": [
        "%matplotlib inline"
      ],
      "execution_count": null,
      "outputs": []
    },
    {
      "cell_type": "code",
      "metadata": {
        "id": "3ILcdlCcOFFs",
        "colab_type": "code",
        "colab": {
          "base_uri": "https://localhost:8080/",
          "height": 280
        },
        "outputId": "1ee826aa-f406-4310-abcc-b7897367815e"
      },
      "source": [
        "!pip install dgl"
      ],
      "execution_count": null,
      "outputs": [
        {
          "output_type": "stream",
          "text": [
            "Collecting dgl\n",
            "\u001b[?25l  Downloading https://files.pythonhosted.org/packages/c5/b4/84e4ebd70ef3985181ef5d2d2a366a45af0e3cd18d249fb212ac03f683cf/dgl-0.4.3.post2-cp36-cp36m-manylinux1_x86_64.whl (3.0MB)\n",
            "\u001b[K     |████████████████████████████████| 3.0MB 7.8MB/s \n",
            "\u001b[?25hRequirement already satisfied: scipy>=1.1.0 in /usr/local/lib/python3.6/dist-packages (from dgl) (1.4.1)\n",
            "Requirement already satisfied: numpy>=1.14.0 in /usr/local/lib/python3.6/dist-packages (from dgl) (1.18.5)\n",
            "Requirement already satisfied: networkx>=2.1 in /usr/local/lib/python3.6/dist-packages (from dgl) (2.4)\n",
            "Requirement already satisfied: requests>=2.19.0 in /usr/local/lib/python3.6/dist-packages (from dgl) (2.23.0)\n",
            "Requirement already satisfied: decorator>=4.3.0 in /usr/local/lib/python3.6/dist-packages (from networkx>=2.1->dgl) (4.4.2)\n",
            "Requirement already satisfied: certifi>=2017.4.17 in /usr/local/lib/python3.6/dist-packages (from requests>=2.19.0->dgl) (2020.4.5.1)\n",
            "Requirement already satisfied: idna<3,>=2.5 in /usr/local/lib/python3.6/dist-packages (from requests>=2.19.0->dgl) (2.9)\n",
            "Requirement already satisfied: chardet<4,>=3.0.2 in /usr/local/lib/python3.6/dist-packages (from requests>=2.19.0->dgl) (3.0.4)\n",
            "Requirement already satisfied: urllib3!=1.25.0,!=1.25.1,<1.26,>=1.21.1 in /usr/local/lib/python3.6/dist-packages (from requests>=2.19.0->dgl) (1.24.3)\n",
            "Installing collected packages: dgl\n",
            "Successfully installed dgl-0.4.3.post2\n"
          ],
          "name": "stdout"
        }
      ]
    },
    {
      "cell_type": "code",
      "metadata": {
        "jupyter": {
          "outputs_hidden": false
        },
        "id": "ZqQ87ao-OD4E",
        "colab_type": "code",
        "colab": {
          "base_uri": "https://localhost:8080/",
          "height": 89
        },
        "outputId": "1c455e6a-1c54-4b2a-c072-2859d282a8ff"
      },
      "source": [
        "import matplotlib.pyplot as plt\n",
        "import networkx as nx\n",
        "import os\n",
        "import pandas as pd\n",
        "import numpy as np\n",
        "import dgl\n",
        "import torch"
      ],
      "execution_count": null,
      "outputs": [
        {
          "output_type": "stream",
          "text": [
            "DGL backend not selected or invalid.  Assuming PyTorch for now.\n",
            "Using backend: pytorch\n"
          ],
          "name": "stderr"
        },
        {
          "output_type": "stream",
          "text": [
            "Setting the default backend to \"pytorch\". You can change it in the ~/.dgl/config.json file or export the DGLBACKEND environment variable.  Valid options are: pytorch, mxnet, tensorflow (all lowercase)\n"
          ],
          "name": "stdout"
        }
      ]
    },
    {
      "cell_type": "code",
      "metadata": {
        "id": "6cbMwN2TRIc4",
        "colab_type": "code",
        "colab": {}
      },
      "source": [
        "def collate(samples):\n",
        "    # The input `samples` is a list of pairs\n",
        "    #  (graph, label).\n",
        "    graphs, labels = map(list, zip(*samples))\n",
        "    batched_graph = dgl.batch(graphs,node_attrs=None)\n",
        "    return batched_graph, torch.tensor(labels)\n",
        "\n",
        "def build_subgraphs():\n",
        "  path='/content/drive/My Drive/dgl/sub_graphs/'\n",
        "  subgraphs_list = []\n",
        "  \n",
        "  for file in os.listdir(path):\n",
        "    g = dgl.DGLGraph()\n",
        "    if file.endswith(\".gml\"):\n",
        "      gnx=nx.read_gml(path+os.sep+file, label='label', destringizer=None)\n",
        "      g.from_networkx(gnx)\n",
        "      subgraphs_list.append(g)\n",
        "  return subgraphs_list\n",
        "\n",
        "def create_list_of_pairs(subgraphs,labels):\n",
        "  pair_list=[]\n",
        "  for i in range(len(subgraphs)):\n",
        "    pair_list.append((subgraphs[i],torch.tensor(labels.loc[i])))\n",
        "  return pair_list\n",
        "\n"
      ],
      "execution_count": null,
      "outputs": []
    },
    {
      "cell_type": "code",
      "metadata": {
        "id": "-X7rK0agSA73",
        "colab_type": "code",
        "colab": {
          "base_uri": "https://localhost:8080/",
          "height": 124
        },
        "outputId": "15a7adb8-2063-4ad9-ce5f-eeb58b3fc1ac"
      },
      "source": [
        "from google.colab import drive\n",
        "drive.mount('/content/drive')"
      ],
      "execution_count": null,
      "outputs": [
        {
          "output_type": "stream",
          "text": [
            "Go to this URL in a browser: https://accounts.google.com/o/oauth2/auth?client_id=947318989803-6bn6qk8qdgf4n4g3pfee6491hc0brc4i.apps.googleusercontent.com&redirect_uri=urn%3aietf%3awg%3aoauth%3a2.0%3aoob&response_type=code&scope=email%20https%3a%2f%2fwww.googleapis.com%2fauth%2fdocs.test%20https%3a%2f%2fwww.googleapis.com%2fauth%2fdrive%20https%3a%2f%2fwww.googleapis.com%2fauth%2fdrive.photos.readonly%20https%3a%2f%2fwww.googleapis.com%2fauth%2fpeopleapi.readonly\n",
            "\n",
            "Enter your authorization code:\n",
            "··········\n",
            "Mounted at /content/drive\n"
          ],
          "name": "stdout"
        }
      ]
    },
    {
      "cell_type": "code",
      "metadata": {
        "id": "Ak1JoIpTsCQJ",
        "colab_type": "code",
        "colab": {}
      },
      "source": [
        "subgraphs=build_subgraphs()\n",
        "labels=pd.read_excel('/content/drive/My Drive/dgl/train_label.xlsx', index=False)\n",
        "pairs=create_list_of_pairs(subgraphs,labels)"
      ],
      "execution_count": null,
      "outputs": []
    },
    {
      "cell_type": "code",
      "metadata": {
        "jupyter": {
          "outputs_hidden": false
        },
        "id": "oK-WlMBlOD4N",
        "colab_type": "code",
        "colab": {}
      },
      "source": [
        "from dgl.nn.pytorch import GraphConv"
      ],
      "execution_count": null,
      "outputs": []
    },
    {
      "cell_type": "code",
      "metadata": {
        "jupyter": {
          "outputs_hidden": false
        },
        "id": "uqR7fHdgOD4R",
        "colab_type": "code",
        "colab": {}
      },
      "source": [
        "import torch.nn as nn\n",
        "import torch.nn.functional as F\n",
        "\n",
        "class Classifier(nn.Module):\n",
        "    def __init__(self, in_dim, hidden_dim, n_classes):\n",
        "        super(Classifier, self).__init__()\n",
        "        self.conv1 = GraphConv(in_dim, hidden_dim)\n",
        "        self.conv2 = GraphConv(hidden_dim, hidden_dim)\n",
        "        self.conv3 = GraphConv(hidden_dim, hidden_dim)\n",
        "        self.linear = nn.Linear(hidden_dim, n_classes)\n",
        "\n",
        "\n",
        "\n",
        "    def forward(self, g):\n",
        "        h = g.in_degrees().view(-1, 1).float()\n",
        "        h = F.relu(self.conv1(g, h))\n",
        "        h = F.relu(self.conv2(g, h))\n",
        "        h = F.relu(self.conv3(g, h))\n",
        "        g.ndata['h'] = h\n",
        "        hg = dgl.mean_nodes(g, 'h')\n",
        "        return F.sigmoid(self.linear(hg))"
      ],
      "execution_count": null,
      "outputs": []
    },
    {
      "cell_type": "markdown",
      "metadata": {
        "id": "xHOED5yEhuFA",
        "colab_type": "text"
      },
      "source": [
        "**Training variables**"
      ]
    },
    {
      "cell_type": "code",
      "metadata": {
        "id": "tO1FVPoCfObx",
        "colab_type": "code",
        "colab": {}
      },
      "source": [
        "VALIDATION_SPLIT=0.2\n",
        "BATCH_SIZE=64\n",
        "EPOCHS=50\n",
        "KFOLD_SPLIT=2\n",
        "LEARNING_RATE=0.001\n",
        "\n"
      ],
      "execution_count": null,
      "outputs": []
    },
    {
      "cell_type": "code",
      "metadata": {
        "id": "Yt42114YiKE0",
        "colab_type": "code",
        "colab": {
          "base_uri": "https://localhost:8080/",
          "height": 918
        },
        "outputId": "1959a140-6726-49bc-c5cf-3810f245b7ba"
      },
      "source": [
        "import torch.optim as optim\n",
        "from torch.utils.data import DataLoader\n",
        "from torch.utils.data import random_split\n",
        "\n",
        "\n",
        "\n",
        "# Create training and test sets.\n",
        "# Use PyTorch's DataLoader and the collate function\n",
        "# defined before.\n",
        "data_loader = DataLoader(pairs, batch_size=32, shuffle=True,\n",
        "                         collate_fn=collate)\n",
        "train_size=round(len(data_loader.dataset)*(1-VALIDATION_SPLIT))\n",
        "val_size=round(len(data_loader.dataset)*VALIDATION_SPLIT)\n",
        "train , validation = torch.utils.data.random_split(data_loader.dataset, (train_size, val_size))\n",
        "\n",
        "# Create model\n",
        "model = Classifier(1, 256, 1)\n",
        "loss_func = nn.BCELoss()\n",
        "optimizer = optim.Adam(model.parameters(), lr=0.001)\n",
        "model.train()\n",
        "epoch_losses = []\n",
        "train_loss_values=[]\n",
        "val_loss_values=[]\n",
        "\n",
        "for epoch in range(EPOCHS):\n",
        "    epoch_loss = 0\n",
        "    val_epoch_loss=0\n",
        "    for iter, (bg, label) in enumerate(train):\n",
        "        prediction = model(bg)\n",
        "        label = label.type(dtype=torch.float)\n",
        "        loss = loss_func(prediction, label.unsqueeze(1))\n",
        "        optimizer.zero_grad()\n",
        "        loss.backward()\n",
        "        optimizer.step()\n",
        "        epoch_loss += loss.detach().item()\n",
        "    for val_iter, (val_bg,val_label) in enumerate(validation):\n",
        "      val_pred = model(val_bg)\n",
        "      val_label = val_label.type(dtype=torch.float)\n",
        "      val_loss = loss_func(val_pred, val_label.unsqueeze(1))\n",
        "      val_epoch_loss += val_loss.detach().item()\n",
        "\n",
        "    #calculating epoch per loss\n",
        "    epoch_loss /= (iter + 1)\n",
        "    val_epoch_loss /= (val_iter+1)\n",
        "    train_loss_values.append(epoch_loss)\n",
        "    val_loss_values.append(val_epoch_loss)\n",
        "    print('Epoch {}, loss {:.4f} , val_loss {:.4f}'.format(epoch, epoch_loss,val_epoch_loss))"
      ],
      "execution_count": null,
      "outputs": [
        {
          "output_type": "stream",
          "text": [
            "/usr/local/lib/python3.6/dist-packages/torch/nn/functional.py:1569: UserWarning: nn.functional.sigmoid is deprecated. Use torch.sigmoid instead.\n",
            "  warnings.warn(\"nn.functional.sigmoid is deprecated. Use torch.sigmoid instead.\")\n"
          ],
          "name": "stderr"
        },
        {
          "output_type": "stream",
          "text": [
            "Epoch 0, loss 0.6840 , val_loss 0.6540\n",
            "Epoch 1, loss 0.6851 , val_loss 0.6517\n",
            "Epoch 2, loss 0.6825 , val_loss 0.6516\n",
            "Epoch 3, loss 0.6834 , val_loss 0.6523\n",
            "Epoch 4, loss 0.6820 , val_loss 0.6538\n",
            "Epoch 5, loss 0.6808 , val_loss 0.6525\n",
            "Epoch 6, loss 0.6820 , val_loss 0.6518\n",
            "Epoch 7, loss 0.6860 , val_loss 0.6518\n",
            "Epoch 8, loss 0.6812 , val_loss 0.6517\n",
            "Epoch 9, loss 0.6820 , val_loss 0.6529\n",
            "Epoch 10, loss 0.6801 , val_loss 0.6529\n",
            "Epoch 11, loss 0.6794 , val_loss 0.6515\n",
            "Epoch 12, loss 0.6800 , val_loss 0.6517\n",
            "Epoch 13, loss 0.6803 , val_loss 0.6524\n",
            "Epoch 14, loss 0.6791 , val_loss 0.6522\n",
            "Epoch 15, loss 0.6787 , val_loss 0.6522\n",
            "Epoch 16, loss 0.6787 , val_loss 0.6530\n",
            "Epoch 17, loss 0.6780 , val_loss 0.6528\n",
            "Epoch 18, loss 0.6776 , val_loss 0.6530\n",
            "Epoch 19, loss 0.6773 , val_loss 0.6531\n",
            "Epoch 20, loss 0.6774 , val_loss 0.6535\n",
            "Epoch 21, loss 0.6774 , val_loss 0.6537\n",
            "Epoch 22, loss 0.6773 , val_loss 0.6537\n",
            "Epoch 23, loss 0.6759 , val_loss 0.6522\n",
            "Epoch 24, loss 0.6805 , val_loss 0.6555\n",
            "Epoch 25, loss 0.6764 , val_loss 0.6548\n",
            "Epoch 26, loss 0.6766 , val_loss 0.6533\n",
            "Epoch 27, loss 0.6771 , val_loss 0.6549\n",
            "Epoch 28, loss 0.6765 , val_loss 0.6549\n",
            "Epoch 29, loss 0.6767 , val_loss 0.6546\n",
            "Epoch 30, loss 0.6767 , val_loss 0.6551\n",
            "Epoch 31, loss 0.6762 , val_loss 0.6546\n",
            "Epoch 32, loss 0.6769 , val_loss 0.6550\n",
            "Epoch 33, loss 0.6766 , val_loss 0.6554\n",
            "Epoch 34, loss 0.6764 , val_loss 0.6552\n",
            "Epoch 35, loss 0.6758 , val_loss 0.6538\n",
            "Epoch 36, loss 0.6778 , val_loss 0.6553\n",
            "Epoch 37, loss 0.6765 , val_loss 0.6554\n",
            "Epoch 38, loss 0.6762 , val_loss 0.6562\n",
            "Epoch 39, loss 0.6763 , val_loss 0.6565\n",
            "Epoch 40, loss 0.6760 , val_loss 0.6566\n",
            "Epoch 41, loss 0.6751 , val_loss 0.6550\n",
            "Epoch 42, loss 0.6761 , val_loss 0.6562\n",
            "Epoch 43, loss 0.6750 , val_loss 0.6565\n",
            "Epoch 44, loss 0.6748 , val_loss 0.6566\n",
            "Epoch 45, loss 0.6745 , val_loss 0.6564\n",
            "Epoch 46, loss 0.6747 , val_loss 0.6567\n",
            "Epoch 47, loss 0.6745 , val_loss 0.6569\n",
            "Epoch 48, loss 0.6745 , val_loss 0.6574\n",
            "Epoch 49, loss 0.6740 , val_loss 0.6559\n"
          ],
          "name": "stdout"
        }
      ]
    },
    {
      "cell_type": "code",
      "metadata": {
        "id": "q0dyf0vTRyHN",
        "colab_type": "code",
        "colab": {
          "base_uri": "https://localhost:8080/",
          "height": 312
        },
        "outputId": "bbdc40da-93c5-4f91-f085-85fb581fa362"
      },
      "source": [
        "plt.plot([x for x in range(0,EPOCHS)], train_loss_values,markersize=12, color='green', linewidth=4,label=\"train\")\n",
        "plt.plot([x for x in range(0,EPOCHS)], val_loss_values, markersize=12, color='orange', linewidth=4,label=\"validation\")\n",
        "plt.title(\"Subgraph classification\")\n",
        "plt.xlabel('epochs')\n",
        "plt.ylabel('loss')\n",
        "plt.legend()\n"
      ],
      "execution_count": null,
      "outputs": [
        {
          "output_type": "execute_result",
          "data": {
            "text/plain": [
              "<matplotlib.legend.Legend at 0x7f22d7f00c88>"
            ]
          },
          "metadata": {
            "tags": []
          },
          "execution_count": 11
        },
        {
          "output_type": "display_data",
          "data": {
            "image/png": "[encoded data removed]",
            "text/plain": [
              "<Figure size 432x288 with 1 Axes>"
            ]
          },
          "metadata": {
            "tags": [],
            "needs_background": "light"
          }
        }
      ]
    },
    {
      "cell_type": "markdown",
      "metadata": {
        "id": "dbUplbJAOD4Y",
        "colab_type": "text"
      },
      "source": [
        "The learning curve of a run is presented below.\n",
        "\n"
      ]
    },
    {
      "cell_type": "code",
      "metadata": {
        "jupyter": {
          "outputs_hidden": false
        },
        "id": "x8SsB-JTOD4c",
        "colab_type": "code",
        "colab": {}
      },
      "source": [
        "model.eval()\n",
        "# Convert a list of tuples to two lists\n",
        "test_X, test_Y = map(list, zip(*testset))\n",
        "test_bg = dgl.batch(test_X)\n",
        "test_Y = torch.tensor(test_Y).float().view(-1, 1)\n",
        "probs_Y = torch.softmax(model(test_bg), 1)\n",
        "sampled_Y = torch.multinomial(probs_Y, 1)\n",
        "argmax_Y = torch.max(probs_Y, 1)[1].view(-1, 1)\n",
        "print('Accuracy of sampled predictions on the test set: {:.4f}%'.format(\n",
        "    (test_Y == sampled_Y.float()).sum().item() / len(test_Y) * 100))\n",
        "print('Accuracy of argmax predictions on the test set: {:4f}%'.format(\n",
        "    (test_Y == argmax_Y.float()).sum().item() / len(test_Y) * 100))"
      ],
      "execution_count": null,
      "outputs": []
    },
    {
      "cell_type": "markdown",
      "metadata": {
        "id": "Q2cToGKhOD4f",
        "colab_type": "text"
      },
      "source": [
        "The animation here plots the probability that a trained model predicts the correct graph type.\n",
        "\n",
        "![](https://data.dgl.ai/tutorial/batch/test_eval4.gif)\n",
        "\n",
        "\n",
        "To understand the node and graph representations that a trained model learned,\n",
        "we use `t-SNE, <https://lvdmaaten.github.io/tsne/>`_ for dimensionality reduction\n",
        "and visualization.\n",
        "\n",
        "![](https://data.dgl.ai/tutorial/batch/tsne_node2.png)\n",
        "\n",
        "    :align: center\n",
        "\n",
        "![](https://data.dgl.ai/tutorial/batch/tsne_graph2.png)\n",
        "\n",
        "    :align: center\n",
        "\n",
        "The two small figures on the top separately visualize node representations after one and two\n",
        "layers of graph convolution. The figure on the bottom visualizes\n",
        "the pre-softmax logits for graphs as graph representations.\n",
        "\n",
        "While the visualization does suggest some clustering effects of the node features,\n",
        "you would not expect a perfect result. Node degrees are deterministic for\n",
        "these node features. The graph features are improved when separated.\n",
        "\n",
        "What's next?\n",
        "------------\n",
        "Graph classification with graph neural networks is still a new field.\n",
        "It's waiting for people to bring more exciting discoveries. The work requires \n",
        "mapping different graphs to different embeddings, while preserving\n",
        "their structural similarity in the embedding space. To learn more about it, see \n",
        "`How Powerful Are Graph Neural Networks? <https://arxiv.org/abs/1810.00826>`_ a research paper  \n",
        "published for the International Conference on Learning Representations 2019.\n",
        "\n",
        "For more examples about batched graph processing, see the following:\n",
        "\n",
        "* Tutorials for `Tree LSTM <https://docs.dgl.ai/tutorials/models/2_small_graph/3_tree-lstm.html>`_ and `Deep Generative Models of Graphs <https://docs.dgl.ai/tutorials/models/3_generative_model/5_dgmg.html>`_\n",
        "* An example implementation of `Junction Tree VAE <https://github.com/dmlc/dgl/tree/master/examples/pytorch/jtnn>`_\n",
        "\n"
      ]
    },
    {
      "cell_type": "code",
      "metadata": {
        "id": "341rbaOBRFPA",
        "colab_type": "code",
        "colab": {
          "base_uri": "https://localhost:8080/",
          "height": 34
        },
        "outputId": "835a24cd-72bf-4f7f-99a9-1e16f3427811"
      },
      "source": [
        ""
      ],
      "execution_count": null,
      "outputs": [
        {
          "output_type": "execute_result",
          "data": {
            "text/plain": [
              "'MiniGCDataset'"
            ]
          },
          "metadata": {
            "tags": []
          },
          "execution_count": 22
        }
      ]
    },
    {
      "cell_type": "code",
      "metadata": {
        "id": "6fqNL_D_TE-S",
        "colab_type": "code",
        "colab": {
          "base_uri": "https://localhost:8080/",
          "height": 34
        },
        "outputId": "b8e4062d-8f7c-41e5-81f0-4b032cfc94b2"
      },
      "source": [
        "len(subgraphs) , len(labels)"
      ],
      "execution_count": null,
      "outputs": [
        {
          "output_type": "execute_result",
          "data": {
            "text/plain": [
              "(417, 417)"
            ]
          },
          "metadata": {
            "tags": []
          },
          "execution_count": 43
        }
      ]
    },
    {
      "cell_type": "code",
      "metadata": {
        "id": "9AOV8u7Nq_ki",
        "colab_type": "code",
        "colab": {}
      },
      "source": [
        ""
      ],
      "execution_count": null,
      "outputs": []
    }
  ]
}